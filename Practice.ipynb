{
 "cells": [
  {
   "cell_type": "code",
   "execution_count": 1,
   "metadata": {},
   "outputs": [
    {
     "name": "stdout",
     "output_type": "stream",
     "text": [
      "[55, 110, 165, 220, 275]\n",
      "[555, 110, 165, 220, 275]\n"
     ]
    }
   ],
   "source": [
    "# Multiply numbers in a list using lambda\n",
    "nums =  [11,22,33,44,55]\n",
    "\n",
    "result = list(map(lambda x:x*5,nums))\n",
    "print(result)\n",
    "\n",
    "#without using lambda\n",
    "def mul_five(x):\n",
    "    return x*5\n",
    "nums = [111,22,33,44,55]\n",
    "result = list(map(mul_five,nums))\n",
    "print(result)"
   ]
  },
  {
   "cell_type": "code",
   "execution_count": 2,
   "metadata": {},
   "outputs": [
    {
     "name": "stdout",
     "output_type": "stream",
     "text": [
      "[55, 110, 165, 220, 275]\n",
      "[55, 110, 165, 220, 275]\n",
      "[22, 44]\n",
      "[22, 44]\n",
      "5\n",
      "4\n",
      "3\n",
      "2\n",
      "1\n",
      "[5, 4, 3, 2, 1]\n",
      "[5, 4, 3, 2, 1]\n",
      "[5, 4, 3, 2, 1]\n",
      "[5, 4, 3, 2, 1]\n",
      "[5, 4, 3, 2, 1]\n",
      "[5, 4, 3, 2, 1]\n",
      "[4, 3, 2, 1]\n",
      "[3, 2, 1]\n",
      "[2, 1]\n",
      "[1]\n",
      "120\n",
      "5\n",
      "3\n",
      "4\n",
      "5\n",
      "6\n",
      "7\n",
      "8\n",
      "9\n",
      "10\n",
      "11\n"
     ]
    }
   ],
   "source": [
    "# Multiply numbers in a list using lambda\n",
    "nums =  [11,22,33,44,55]\n",
    "\n",
    "result = list(map(lambda x:x*5,nums))\n",
    "print(result)\n",
    "\n",
    "#without using lambda\n",
    "def mul_five(x):\n",
    "    return x*5\n",
    "nums = [11,22,33,44,55]\n",
    "result = list(map(mul_five,nums))\n",
    "print(result)\n",
    "\n",
    "#filter nums by 2\n",
    "result2 = list(filter(lambda x:x%2 == 0,nums))\n",
    "print(result2)\n",
    "\n",
    "#list comprehension\n",
    "print([x for x in nums if x%2==0])\n",
    "\n",
    "#countdown\n",
    "def countdown():\n",
    "    i = 5\n",
    "    while i > 0:\n",
    "        yield i\n",
    "        i -=1\n",
    "        \n",
    "for i in countdown():\n",
    "    print(i)\n",
    "    \n",
    "def countdown(i):\n",
    "    i = 5\n",
    "    while i > 0:\n",
    "        yield i\n",
    "        i -=1\n",
    "        \n",
    "for i in countdown(5):\n",
    "    print(list(countdown(5)))\n",
    "    \n",
    "def countdown(i):\n",
    "    while i > 0:\n",
    "        yield i\n",
    "        i -=1\n",
    "        \n",
    "for i in countdown(5):\n",
    "    print(list(countdown(i)))\n",
    "    \n",
    "#factorial using recursion\n",
    "def factorial(x):\n",
    "  if x == 1:\n",
    "    return 1\n",
    "  else: \n",
    "    return x * factorial(x-1)\n",
    "    \n",
    "print(factorial(5))\n",
    "\n",
    "def fib(x):\n",
    "  if x == 0 or x == 1:\n",
    "    return 1\n",
    "  else: \n",
    "    return fib(x-1) + fib(x-2)\n",
    "print(fib(4))\n",
    "\n",
    "#itertools library\n",
    "from itertools import count\n",
    "\n",
    "for i in count(3):\n",
    "  print(i)\n",
    "  if i >=11:\n",
    "    break\n",
    "\n"
   ]
  },
  {
   "cell_type": "code",
   "execution_count": null,
   "metadata": {},
   "outputs": [],
   "source": []
  }
 ],
 "metadata": {
  "kernelspec": {
   "display_name": "Python 3",
   "language": "python",
   "name": "python3"
  },
  "language_info": {
   "codemirror_mode": {
    "name": "ipython",
    "version": 3
   },
   "file_extension": ".py",
   "mimetype": "text/x-python",
   "name": "python",
   "nbconvert_exporter": "python",
   "pygments_lexer": "ipython3",
   "version": "3.6.4"
  }
 },
 "nbformat": 4,
 "nbformat_minor": 2
}
